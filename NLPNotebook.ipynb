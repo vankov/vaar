{
 "cells": [
  {
   "cell_type": "code",
   "execution_count": 1,
   "metadata": {},
   "outputs": [],
   "source": [
    "import allennlp"
   ]
  },
  {
   "cell_type": "code",
   "execution_count": 3,
   "metadata": {},
   "outputs": [],
   "source": [
    "from allennlp.predictors.predictor import Predictor\n",
    "predictor = Predictor.from_path(\"https://s3-us-west-2.amazonaws.com/allennlp/models/bert-base-srl-2019.06.17.tar.gz\")"
   ]
  },
  {
   "cell_type": "code",
   "execution_count": 92,
   "metadata": {},
   "outputs": [],
   "source": [
    "semparse = predictor.predict(\"John is jealous of Peter because he loves Mary\")"
   ]
  },
  {
   "cell_type": "code",
   "execution_count": 93,
   "metadata": {},
   "outputs": [],
   "source": [
    "\n",
    "\n",
    "data = []\n",
    "\n",
    "for verb in semparse['verbs']:\n",
    "    mappings = {\"verb\": verb[\"verb\"]}\n",
    "    for (word, tag) in zip(semparse['words'], verb['tags']):\n",
    "        if tag.startswith('I-'):\n",
    "            arg_tag = tag[2:]\n",
    "            if arg_tag in mappings.keys():\n",
    "                mappings[arg_tag].append(word)\n",
    "            else:\n",
    "                throw(\"Can't find argument {}\"%arg_tag)\n",
    "        elif tag.startswith('B-ARG'):\n",
    "            arg_tag = tag[2:]\n",
    "            mappings[arg_tag] = [word]\n",
    "    data.append(mappings)"
   ]
  },
  {
   "cell_type": "code",
   "execution_count": 95,
   "metadata": {},
   "outputs": [
    {
     "data": {
      "text/plain": [
       "{'verbs': [{'verb': 'is',\n",
       "   'description': '[ARG1: John] [V: is] [ARG2: jealous of Peter] [ARGM-CAU: because he loves Mary]',\n",
       "   'tags': ['B-ARG1',\n",
       "    'B-V',\n",
       "    'B-ARG2',\n",
       "    'I-ARG2',\n",
       "    'I-ARG2',\n",
       "    'B-ARGM-CAU',\n",
       "    'I-ARGM-CAU',\n",
       "    'I-ARGM-CAU',\n",
       "    'I-ARGM-CAU']},\n",
       "  {'verb': 'loves',\n",
       "   'description': 'John is jealous of Peter because [ARG0: he] [V: loves] [ARG1: Mary]',\n",
       "   'tags': ['O', 'O', 'O', 'O', 'O', 'O', 'B-ARG0', 'B-V', 'B-ARG1']}],\n",
       " 'words': ['John',\n",
       "  'is',\n",
       "  'jealous',\n",
       "  'of',\n",
       "  'Peter',\n",
       "  'because',\n",
       "  'he',\n",
       "  'loves',\n",
       "  'Mary']}"
      ]
     },
     "execution_count": 95,
     "metadata": {},
     "output_type": "execute_result"
    }
   ],
   "source": [
    "semparse"
   ]
  },
  {
   "cell_type": "code",
   "execution_count": 94,
   "metadata": {},
   "outputs": [
    {
     "data": {
      "text/plain": [
       "[{'verb': 'is',\n",
       "  'ARG1': ['John'],\n",
       "  'ARG2': ['jealous', 'of', 'Peter'],\n",
       "  'ARGM-CAU': ['because', 'he', 'loves', 'Mary']},\n",
       " {'verb': 'loves', 'ARG0': ['he'], 'ARG1': ['Mary']}]"
      ]
     },
     "execution_count": 94,
     "metadata": {},
     "output_type": "execute_result"
    }
   ],
   "source": [
    "data"
   ]
  }
 ],
 "metadata": {
  "kernelspec": {
   "display_name": ".venv",
   "language": "python",
   "name": ".venv"
  },
  "language_info": {
   "codemirror_mode": {
    "name": "ipython",
    "version": 3
   },
   "file_extension": ".py",
   "mimetype": "text/x-python",
   "name": "python",
   "nbconvert_exporter": "python",
   "pygments_lexer": "ipython3",
   "version": "3.6.8"
  }
 },
 "nbformat": 4,
 "nbformat_minor": 2
}
